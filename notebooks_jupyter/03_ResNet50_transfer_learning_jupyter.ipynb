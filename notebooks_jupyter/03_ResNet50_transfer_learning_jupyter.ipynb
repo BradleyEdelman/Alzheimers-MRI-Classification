{
 "cells": [
  {
   "cell_type": "markdown",
   "metadata": {
    "application/vnd.databricks.v1+cell": {
     "cellMetadata": {
      "byteLimit": 2048000,
      "rowLimit": 10000
     },
     "inputWidgets": {},
     "nuid": "ee3eca32-5942-4c10-a19f-84e17aad6c7c",
     "showTitle": false,
     "tableResultSettingsMap": {},
     "title": ""
    }
   },
   "source": [
    "Utilizes the ResNet50 model for transfer learning, exploring:\n",
    "- Fine-tuning the model to improve classification accuracy (with class weighting)\n",
    "- Prediction accuracy and complexity metrics as a function of model pruning"
   ]
  },
  {
   "cell_type": "code",
   "execution_count": null,
   "metadata": {
    "application/vnd.databricks.v1+cell": {
     "cellMetadata": {
      "byteLimit": 2048000,
      "rowLimit": 10000
     },
     "inputWidgets": {},
     "nuid": "5ade3180-eaee-420f-b1b2-829033f85097",
     "showTitle": false,
     "tableResultSettingsMap": {},
     "title": ""
    },
    "scrolled": true
   },
   "outputs": [],
   "source": [
    "# \"standard\"\n",
    "import numpy as np\n",
    "\n",
    "# machine learning and statistics\n",
    "import tensorflow as tf\n",
    "from tensorflow import keras\n",
    "from keras.callbacks import EarlyStopping\n",
    "from keras import applications, models, layers\n",
    "from tensorflow.keras.utils import to_categorical\n",
    "from tensorflow.keras.models import load_model\n",
    "from sklearn.utils.class_weight import compute_class_weight\n",
    "\n",
    "# plotting\n",
    "import matplotlib.pyplot as plt\n",
    "\n",
    "# misc\n",
    "from IPython.display import clear_output\n",
    "\n",
    "# src\n",
    "import sys, os, pickle\n",
    "from pathlib import Path\n",
    "script_dir = Path(os.getcwd()).parent\n",
    "src_dir = script_dir / 'src'\n",
    "sys.path.append(str(src_dir))\n",
    "from visualize import visualize_training, multiclass_summary\n",
    "from custom_pruning import global_prune_model\n",
    "\n",
    "clear_output(wait=False)"
   ]
  },
  {
   "cell_type": "markdown",
   "metadata": {
    "application/vnd.databricks.v1+cell": {
     "cellMetadata": {
      "byteLimit": 2048000,
      "rowLimit": 10000
     },
     "inputWidgets": {},
     "nuid": "849d4204-28eb-4075-9b98-d440d01601c5",
     "showTitle": false,
     "tableResultSettingsMap": {},
     "title": ""
    }
   },
   "source": [
    "Create results directory"
   ]
  },
  {
   "cell_type": "code",
   "execution_count": null,
   "metadata": {
    "application/vnd.databricks.v1+cell": {
     "cellMetadata": {
      "byteLimit": 2048000,
      "rowLimit": 10000
     },
     "inputWidgets": {},
     "nuid": "018f7e13-4633-4a51-a4d1-25cdd08d7c30",
     "showTitle": false,
     "tableResultSettingsMap": {},
     "title": ""
    }
   },
   "outputs": [],
   "source": [
    "script_dir = Path(os.getcwd()).parent\n",
    "results_dir_00 = script_dir / 'results' / 'notebook_00'\n",
    "\n",
    "results_dir_03 = script_dir / 'results' / 'notebook_03'\n",
    "os.makedirs(results_dir_03, exist_ok=True)"
   ]
  },
  {
   "cell_type": "code",
   "execution_count": null,
   "metadata": {
    "application/vnd.databricks.v1+cell": {
     "cellMetadata": {
      "byteLimit": 2048000,
      "rowLimit": 10000
     },
     "inputWidgets": {},
     "nuid": "4f54fd8f-1d24-45c0-b096-3a33417e4506",
     "showTitle": false,
     "tableResultSettingsMap": {},
     "title": ""
    }
   },
   "outputs": [],
   "source": [
    "# Load data file and unpack contents\n",
    "file_name = results_dir_00 / 'data_preprocessed.pkl'\n",
    "with open(file_name, 'rb') as f:\n",
    "    data_preproc = pickle.load(f)\n",
    "\n",
    "train_data=data_preproc['train_data']\n",
    "train_lab=data_preproc['train_labels']\n",
    "test_data=data_preproc['test_data']\n",
    "test_lab=data_preproc['test_labels']\n",
    "class_lab = ['Mild', 'Moderate', 'None', 'Very Mild']\n",
    "    \n",
    "# Convert labels to categorical\n",
    "train_lab_cat = to_categorical(train_lab.astype('int8'), num_classes=4)\n",
    "test_lab_cat = to_categorical(test_lab.astype('int8'), num_classes=4)"
   ]
  },
  {
   "cell_type": "markdown",
   "metadata": {
    "application/vnd.databricks.v1+cell": {
     "cellMetadata": {
      "byteLimit": 2048000,
      "rowLimit": 10000
     },
     "inputWidgets": {},
     "nuid": "b8f8c2c9-9522-4139-b9a6-02d8c1e06d4c",
     "showTitle": false,
     "tableResultSettingsMap": {},
     "title": ""
    }
   },
   "source": [
    "Load and adapt ResNet50"
   ]
  },
  {
   "cell_type": "code",
   "execution_count": null,
   "metadata": {
    "application/vnd.databricks.v1+cell": {
     "cellMetadata": {
      "byteLimit": 2048000,
      "rowLimit": 10000
     },
     "inputWidgets": {},
     "nuid": "badf7bb5-9268-416e-8a4c-fb06d4fbcbd5",
     "showTitle": false,
     "tableResultSettingsMap": {},
     "title": ""
    }
   },
   "outputs": [
    {
     "name": "stdout",
     "output_type": "stream",
     "text": [
      "Layer 140: conv4_block6_3_bn, Trainable: False\n",
      "Layer 141: conv4_block6_add, Trainable: False\n",
      "Layer 142: conv4_block6_out, Trainable: False\n",
      "Layer 143: conv5_block1_1_conv, Trainable: False\n",
      "Layer 144: conv5_block1_1_bn, Trainable: False\n",
      "Layer 145: conv5_block1_1_relu, Trainable: False\n",
      "Layer 146: conv5_block1_2_conv, Trainable: False\n",
      "Layer 147: conv5_block1_2_bn, Trainable: False\n",
      "Layer 148: conv5_block1_2_relu, Trainable: False\n",
      "Layer 149: conv5_block1_0_conv, Trainable: False\n",
      "Layer 150: conv5_block1_3_conv, Trainable: False\n",
      "Layer 151: conv5_block1_0_bn, Trainable: False\n",
      "Layer 152: conv5_block1_3_bn, Trainable: False\n",
      "Layer 153: conv5_block1_add, Trainable: False\n",
      "Layer 154: conv5_block1_out, Trainable: False\n",
      "Layer 155: conv5_block2_1_conv, Trainable: False\n",
      "Layer 156: conv5_block2_1_bn, Trainable: False\n",
      "Layer 157: conv5_block2_1_relu, Trainable: False\n",
      "Layer 158: conv5_block2_2_conv, Trainable: False\n",
      "Layer 159: conv5_block2_2_bn, Trainable: False\n",
      "Layer 160: conv5_block2_2_relu, Trainable: False\n",
      "Layer 161: conv5_block2_3_conv, Trainable: False\n",
      "Layer 162: conv5_block2_3_bn, Trainable: False\n",
      "Layer 163: conv5_block2_add, Trainable: False\n",
      "Layer 164: conv5_block2_out, Trainable: False\n",
      "Layer 165: conv5_block3_1_conv, Trainable: True\n",
      "Layer 166: conv5_block3_1_bn, Trainable: True\n",
      "Layer 167: conv5_block3_1_relu, Trainable: True\n",
      "Layer 168: conv5_block3_2_conv, Trainable: True\n",
      "Layer 169: conv5_block3_2_bn, Trainable: True\n",
      "Layer 170: conv5_block3_2_relu, Trainable: True\n",
      "Layer 171: conv5_block3_3_conv, Trainable: True\n",
      "Layer 172: conv5_block3_3_bn, Trainable: True\n",
      "Layer 173: conv5_block3_add, Trainable: True\n",
      "Layer 174: conv5_block3_out, Trainable: True\n"
     ]
    }
   ],
   "source": [
    "# load ResNet50\n",
    "res_model = applications.ResNet50(\n",
    "    include_top=False,\n",
    "    weights=None,\n",
    "    input_shape=(train_data.shape[1], train_data.shape[2], 3)\n",
    ")\n",
    "clear_output(wait=False)\n",
    "\n",
    "# Freeze all layers except the last block\n",
    "for layer in res_model.layers[:-10]:\n",
    "    layer.trainable = False\n",
    "\n",
    "# Print layers to verify\n",
    "for i, layer in enumerate(res_model.layers[140:], start=140):\n",
    "    print(f\"Layer {i}: {layer.name}, Trainable: {layer.trainable}\")\n",
    "\n",
    "# Add a Conv2D layer to convert grayscale images to 3 channels\n",
    "input_layer = layers.Input(shape=(128, 128, 1))\n",
    "x = layers.Conv2D(3, (3, 3), padding='same')(input_layer)\n",
    "x = res_model(x)\n",
    "x = layers.Flatten()(x)\n",
    "x = layers.Dense(len(np.unique(train_lab)), activation='softmax')(x)  # Add Dense layer with number of unique classes"
   ]
  },
  {
   "cell_type": "code",
   "execution_count": null,
   "metadata": {
    "application/vnd.databricks.v1+cell": {
     "cellMetadata": {
      "byteLimit": 2048000,
      "rowLimit": 10000
     },
     "inputWidgets": {},
     "nuid": "4aa11a6e-81e5-4b4e-9315-5d7c4ff75e28",
     "showTitle": false,
     "tableResultSettingsMap": {},
     "title": ""
    }
   },
   "outputs": [
    {
     "data": {
      "text/html": [
       "<pre style=\"white-space:pre;overflow-x:auto;line-height:normal;font-family:Menlo,'DejaVu Sans Mono',consolas,'Courier New',monospace\"><span style=\"font-weight: bold\">Model: \"functional_1\"</span>\n",
       "</pre>\n"
      ],
      "text/plain": [
       "\u001b[1mModel: \"functional_1\"\u001b[0m\n"
      ]
     },
     "metadata": {},
     "output_type": "display_data"
    },
    {
     "data": {
      "text/html": [
       "<pre style=\"white-space:pre;overflow-x:auto;line-height:normal;font-family:Menlo,'DejaVu Sans Mono',consolas,'Courier New',monospace\">┏━━━━━━━━━━━━━━━━━━━━━━━━━━━━━━━━━┳━━━━━━━━━━━━━━━━━━━━━━━━┳━━━━━━━━━━━━━━━┓\n",
       "┃<span style=\"font-weight: bold\"> Layer (type)                    </span>┃<span style=\"font-weight: bold\"> Output Shape           </span>┃<span style=\"font-weight: bold\">       Param # </span>┃\n",
       "┡━━━━━━━━━━━━━━━━━━━━━━━━━━━━━━━━━╇━━━━━━━━━━━━━━━━━━━━━━━━╇━━━━━━━━━━━━━━━┩\n",
       "│ input_layer_3 (<span style=\"color: #0087ff; text-decoration-color: #0087ff\">InputLayer</span>)      │ (<span style=\"color: #00d7ff; text-decoration-color: #00d7ff\">None</span>, <span style=\"color: #00af00; text-decoration-color: #00af00\">128</span>, <span style=\"color: #00af00; text-decoration-color: #00af00\">128</span>, <span style=\"color: #00af00; text-decoration-color: #00af00\">1</span>)    │             <span style=\"color: #00af00; text-decoration-color: #00af00\">0</span> │\n",
       "├─────────────────────────────────┼────────────────────────┼───────────────┤\n",
       "│ conv2d_1 (<span style=\"color: #0087ff; text-decoration-color: #0087ff\">Conv2D</span>)               │ (<span style=\"color: #00d7ff; text-decoration-color: #00d7ff\">None</span>, <span style=\"color: #00af00; text-decoration-color: #00af00\">128</span>, <span style=\"color: #00af00; text-decoration-color: #00af00\">128</span>, <span style=\"color: #00af00; text-decoration-color: #00af00\">3</span>)    │            <span style=\"color: #00af00; text-decoration-color: #00af00\">30</span> │\n",
       "├─────────────────────────────────┼────────────────────────┼───────────────┤\n",
       "│ resnet50 (<span style=\"color: #0087ff; text-decoration-color: #0087ff\">Functional</span>)           │ (<span style=\"color: #00d7ff; text-decoration-color: #00d7ff\">None</span>, <span style=\"color: #00af00; text-decoration-color: #00af00\">4</span>, <span style=\"color: #00af00; text-decoration-color: #00af00\">4</span>, <span style=\"color: #00af00; text-decoration-color: #00af00\">2048</span>)     │    <span style=\"color: #00af00; text-decoration-color: #00af00\">23,587,712</span> │\n",
       "├─────────────────────────────────┼────────────────────────┼───────────────┤\n",
       "│ flatten_1 (<span style=\"color: #0087ff; text-decoration-color: #0087ff\">Flatten</span>)             │ (<span style=\"color: #00d7ff; text-decoration-color: #00d7ff\">None</span>, <span style=\"color: #00af00; text-decoration-color: #00af00\">32768</span>)          │             <span style=\"color: #00af00; text-decoration-color: #00af00\">0</span> │\n",
       "├─────────────────────────────────┼────────────────────────┼───────────────┤\n",
       "│ dense_1 (<span style=\"color: #0087ff; text-decoration-color: #0087ff\">Dense</span>)                 │ (<span style=\"color: #00d7ff; text-decoration-color: #00d7ff\">None</span>, <span style=\"color: #00af00; text-decoration-color: #00af00\">4</span>)              │       <span style=\"color: #00af00; text-decoration-color: #00af00\">131,076</span> │\n",
       "└─────────────────────────────────┴────────────────────────┴───────────────┘\n",
       "</pre>\n"
      ],
      "text/plain": [
       "┏━━━━━━━━━━━━━━━━━━━━━━━━━━━━━━━━━┳━━━━━━━━━━━━━━━━━━━━━━━━┳━━━━━━━━━━━━━━━┓\n",
       "┃\u001b[1m \u001b[0m\u001b[1mLayer (type)                   \u001b[0m\u001b[1m \u001b[0m┃\u001b[1m \u001b[0m\u001b[1mOutput Shape          \u001b[0m\u001b[1m \u001b[0m┃\u001b[1m \u001b[0m\u001b[1m      Param #\u001b[0m\u001b[1m \u001b[0m┃\n",
       "┡━━━━━━━━━━━━━━━━━━━━━━━━━━━━━━━━━╇━━━━━━━━━━━━━━━━━━━━━━━━╇━━━━━━━━━━━━━━━┩\n",
       "│ input_layer_3 (\u001b[38;5;33mInputLayer\u001b[0m)      │ (\u001b[38;5;45mNone\u001b[0m, \u001b[38;5;34m128\u001b[0m, \u001b[38;5;34m128\u001b[0m, \u001b[38;5;34m1\u001b[0m)    │             \u001b[38;5;34m0\u001b[0m │\n",
       "├─────────────────────────────────┼────────────────────────┼───────────────┤\n",
       "│ conv2d_1 (\u001b[38;5;33mConv2D\u001b[0m)               │ (\u001b[38;5;45mNone\u001b[0m, \u001b[38;5;34m128\u001b[0m, \u001b[38;5;34m128\u001b[0m, \u001b[38;5;34m3\u001b[0m)    │            \u001b[38;5;34m30\u001b[0m │\n",
       "├─────────────────────────────────┼────────────────────────┼───────────────┤\n",
       "│ resnet50 (\u001b[38;5;33mFunctional\u001b[0m)           │ (\u001b[38;5;45mNone\u001b[0m, \u001b[38;5;34m4\u001b[0m, \u001b[38;5;34m4\u001b[0m, \u001b[38;5;34m2048\u001b[0m)     │    \u001b[38;5;34m23,587,712\u001b[0m │\n",
       "├─────────────────────────────────┼────────────────────────┼───────────────┤\n",
       "│ flatten_1 (\u001b[38;5;33mFlatten\u001b[0m)             │ (\u001b[38;5;45mNone\u001b[0m, \u001b[38;5;34m32768\u001b[0m)          │             \u001b[38;5;34m0\u001b[0m │\n",
       "├─────────────────────────────────┼────────────────────────┼───────────────┤\n",
       "│ dense_1 (\u001b[38;5;33mDense\u001b[0m)                 │ (\u001b[38;5;45mNone\u001b[0m, \u001b[38;5;34m4\u001b[0m)              │       \u001b[38;5;34m131,076\u001b[0m │\n",
       "└─────────────────────────────────┴────────────────────────┴───────────────┘\n"
      ]
     },
     "metadata": {},
     "output_type": "display_data"
    },
    {
     "data": {
      "text/html": [
       "<pre style=\"white-space:pre;overflow-x:auto;line-height:normal;font-family:Menlo,'DejaVu Sans Mono',consolas,'Courier New',monospace\"><span style=\"font-weight: bold\"> Total params: </span><span style=\"color: #00af00; text-decoration-color: #00af00\">23,718,818</span> (90.48 MB)\n",
       "</pre>\n"
      ],
      "text/plain": [
       "\u001b[1m Total params: \u001b[0m\u001b[38;5;34m23,718,818\u001b[0m (90.48 MB)\n"
      ]
     },
     "metadata": {},
     "output_type": "display_data"
    },
    {
     "data": {
      "text/html": [
       "<pre style=\"white-space:pre;overflow-x:auto;line-height:normal;font-family:Menlo,'DejaVu Sans Mono',consolas,'Courier New',monospace\"><span style=\"font-weight: bold\"> Trainable params: </span><span style=\"color: #00af00; text-decoration-color: #00af00\">4,596,770</span> (17.54 MB)\n",
       "</pre>\n"
      ],
      "text/plain": [
       "\u001b[1m Trainable params: \u001b[0m\u001b[38;5;34m4,596,770\u001b[0m (17.54 MB)\n"
      ]
     },
     "metadata": {},
     "output_type": "display_data"
    },
    {
     "data": {
      "text/html": [
       "<pre style=\"white-space:pre;overflow-x:auto;line-height:normal;font-family:Menlo,'DejaVu Sans Mono',consolas,'Courier New',monospace\"><span style=\"font-weight: bold\"> Non-trainable params: </span><span style=\"color: #00af00; text-decoration-color: #00af00\">19,122,048</span> (72.94 MB)\n",
       "</pre>\n"
      ],
      "text/plain": [
       "\u001b[1m Non-trainable params: \u001b[0m\u001b[38;5;34m19,122,048\u001b[0m (72.94 MB)\n"
      ]
     },
     "metadata": {},
     "output_type": "display_data"
    }
   ],
   "source": [
    "# Combine new input layer to ResNet50\n",
    "model = models.Model(inputs=input_layer, outputs=x)\n",
    "std_learning_rate = 1e-4\n",
    "model.compile(optimizer = keras.optimizers.Adam(learning_rate = std_learning_rate),\n",
    "              loss = 'categorical_crossentropy',\n",
    "              metrics = ['accuracy']\n",
    ")\n",
    "\n",
    "model.summary()"
   ]
  },
  {
   "cell_type": "code",
   "execution_count": null,
   "metadata": {},
   "outputs": [
    {
     "name": "stdout",
     "output_type": "stream",
     "text": [
      "{0: 1.7679558011049723, 1: 26.122448979591837, 2: 0.49883086515978176, 3: 0.7186973610331274}\n"
     ]
    }
   ],
   "source": [
    "# Compute class weights\n",
    "class_weights = compute_class_weight(\n",
    "    class_weight='balanced',\n",
    "    classes=np.unique(train_lab),\n",
    "    y=train_lab\n",
    ")\n",
    "class_weights_dict = dict(zip(np.unique(train_lab), class_weights))"
   ]
  },
  {
   "cell_type": "code",
   "execution_count": null,
   "metadata": {
    "application/vnd.databricks.v1+cell": {
     "cellMetadata": {
      "byteLimit": 2048000,
      "rowLimit": 10000
     },
     "inputWidgets": {},
     "nuid": "5ffcf68a-69f9-4753-8013-e2af4df5de47",
     "showTitle": false,
     "tableResultSettingsMap": {},
     "title": ""
    }
   },
   "outputs": [
    {
     "name": "stdout",
     "output_type": "stream",
     "text": [
      "Epoch 1/30\n"
     ]
    },
    {
     "name": "stdout",
     "output_type": "stream",
     "text": [
      "\u001b[1m160/160\u001b[0m \u001b[32m━━━━━━━━━━━━━━━━━━━━\u001b[0m\u001b[37m\u001b[0m \u001b[1m123s\u001b[0m 738ms/step - accuracy: 0.3297 - loss: 6.1612 - val_accuracy: 0.4828 - val_loss: 1.1566\n",
      "Epoch 2/30\n",
      "\u001b[1m160/160\u001b[0m \u001b[32m━━━━━━━━━━━━━━━━━━━━\u001b[0m\u001b[37m\u001b[0m \u001b[1m117s\u001b[0m 734ms/step - accuracy: 0.4584 - loss: 2.6475 - val_accuracy: 0.6039 - val_loss: 0.9060\n",
      "Epoch 3/30\n",
      "\u001b[1m160/160\u001b[0m \u001b[32m━━━━━━━━━━━━━━━━━━━━\u001b[0m\u001b[37m\u001b[0m \u001b[1m118s\u001b[0m 738ms/step - accuracy: 0.6356 - loss: 0.5979 - val_accuracy: 0.6008 - val_loss: 0.8720\n",
      "Epoch 4/30\n",
      "\u001b[1m160/160\u001b[0m \u001b[32m━━━━━━━━━━━━━━━━━━━━\u001b[0m\u001b[37m\u001b[0m \u001b[1m151s\u001b[0m 943ms/step - accuracy: 0.7197 - loss: 0.4740 - val_accuracy: 0.5617 - val_loss: 0.9875\n",
      "Epoch 5/30\n",
      "\u001b[1m160/160\u001b[0m \u001b[32m━━━━━━━━━━━━━━━━━━━━\u001b[0m\u001b[37m\u001b[0m \u001b[1m151s\u001b[0m 942ms/step - accuracy: 0.7499 - loss: 0.4105 - val_accuracy: 0.5359 - val_loss: 1.0910\n",
      "Epoch 6/30\n",
      "\u001b[1m160/160\u001b[0m \u001b[32m━━━━━━━━━━━━━━━━━━━━\u001b[0m\u001b[37m\u001b[0m \u001b[1m132s\u001b[0m 827ms/step - accuracy: 0.8364 - loss: 0.2684 - val_accuracy: 0.7359 - val_loss: 0.6172\n",
      "Epoch 7/30\n",
      "\u001b[1m160/160\u001b[0m \u001b[32m━━━━━━━━━━━━━━━━━━━━\u001b[0m\u001b[37m\u001b[0m \u001b[1m143s\u001b[0m 894ms/step - accuracy: 0.9014 - loss: 0.1815 - val_accuracy: 0.6773 - val_loss: 0.8855\n",
      "Epoch 8/30\n",
      "\u001b[1m160/160\u001b[0m \u001b[32m━━━━━━━━━━━━━━━━━━━━\u001b[0m\u001b[37m\u001b[0m \u001b[1m142s\u001b[0m 890ms/step - accuracy: 0.9185 - loss: 0.1428 - val_accuracy: 0.8531 - val_loss: 0.3959\n",
      "Epoch 9/30\n",
      "\u001b[1m160/160\u001b[0m \u001b[32m━━━━━━━━━━━━━━━━━━━━\u001b[0m\u001b[37m\u001b[0m \u001b[1m139s\u001b[0m 867ms/step - accuracy: 0.9475 - loss: 0.1023 - val_accuracy: 0.6883 - val_loss: 0.8561\n",
      "Epoch 10/30\n",
      "\u001b[1m160/160\u001b[0m \u001b[32m━━━━━━━━━━━━━━━━━━━━\u001b[0m\u001b[37m\u001b[0m \u001b[1m127s\u001b[0m 791ms/step - accuracy: 0.9391 - loss: 0.0983 - val_accuracy: 0.8836 - val_loss: 0.3019\n",
      "Epoch 11/30\n",
      "\u001b[1m160/160\u001b[0m \u001b[32m━━━━━━━━━━━━━━━━━━━━\u001b[0m\u001b[37m\u001b[0m \u001b[1m7085s\u001b[0m 45s/step - accuracy: 0.9922 - loss: 0.0278 - val_accuracy: 0.9461 - val_loss: 0.1877\n",
      "Epoch 12/30\n",
      "\u001b[1m160/160\u001b[0m \u001b[32m━━━━━━━━━━━━━━━━━━━━\u001b[0m\u001b[37m\u001b[0m \u001b[1m123s\u001b[0m 770ms/step - accuracy: 0.9994 - loss: 0.0110 - val_accuracy: 0.9305 - val_loss: 0.1957\n",
      "Epoch 13/30\n",
      "\u001b[1m160/160\u001b[0m \u001b[32m━━━━━━━━━━━━━━━━━━━━\u001b[0m\u001b[37m\u001b[0m \u001b[1m180s\u001b[0m 1s/step - accuracy: 0.9984 - loss: 0.0095 - val_accuracy: 0.7781 - val_loss: 0.6823\n",
      "Epoch 14/30\n",
      "\u001b[1m160/160\u001b[0m \u001b[32m━━━━━━━━━━━━━━━━━━━━\u001b[0m\u001b[37m\u001b[0m \u001b[1m153s\u001b[0m 953ms/step - accuracy: 0.9912 - loss: 0.0213 - val_accuracy: 0.6836 - val_loss: 0.9195\n",
      "Epoch 15/30\n",
      "\u001b[1m160/160\u001b[0m \u001b[32m━━━━━━━━━━━━━━━━━━━━\u001b[0m\u001b[37m\u001b[0m \u001b[1m167s\u001b[0m 1s/step - accuracy: 0.9915 - loss: 0.0223 - val_accuracy: 0.8828 - val_loss: 0.3246\n",
      "Epoch 16/30\n",
      "\u001b[1m160/160\u001b[0m \u001b[32m━━━━━━━━━━━━━━━━━━━━\u001b[0m\u001b[37m\u001b[0m \u001b[1m162s\u001b[0m 1s/step - accuracy: 0.9967 - loss: 0.0124 - val_accuracy: 0.9477 - val_loss: 0.1803\n",
      "Epoch 17/30\n",
      "\u001b[1m160/160\u001b[0m \u001b[32m━━━━━━━━━━━━━━━━━━━━\u001b[0m\u001b[37m\u001b[0m \u001b[1m183s\u001b[0m 1s/step - accuracy: 0.9996 - loss: 0.0049 - val_accuracy: 0.9414 - val_loss: 0.1715\n",
      "Epoch 18/30\n",
      "\u001b[1m160/160\u001b[0m \u001b[32m━━━━━━━━━━━━━━━━━━━━\u001b[0m\u001b[37m\u001b[0m \u001b[1m174s\u001b[0m 1s/step - accuracy: 1.0000 - loss: 0.0015 - val_accuracy: 0.9633 - val_loss: 0.1368\n",
      "Epoch 19/30\n",
      "\u001b[1m160/160\u001b[0m \u001b[32m━━━━━━━━━━━━━━━━━━━━\u001b[0m\u001b[37m\u001b[0m \u001b[1m156s\u001b[0m 975ms/step - accuracy: 1.0000 - loss: 0.0010 - val_accuracy: 0.9586 - val_loss: 0.1278\n",
      "Epoch 20/30\n",
      "\u001b[1m160/160\u001b[0m \u001b[32m━━━━━━━━━━━━━━━━━━━━\u001b[0m\u001b[37m\u001b[0m \u001b[1m175s\u001b[0m 1s/step - accuracy: 1.0000 - loss: 8.1791e-04 - val_accuracy: 0.9672 - val_loss: 0.1308\n",
      "Epoch 21/30\n",
      "\u001b[1m160/160\u001b[0m \u001b[32m━━━━━━━━━━━━━━━━━━━━\u001b[0m\u001b[37m\u001b[0m \u001b[1m201s\u001b[0m 1s/step - accuracy: 1.0000 - loss: 7.1385e-04 - val_accuracy: 0.9672 - val_loss: 0.1271\n",
      "Epoch 22/30\n",
      "\u001b[1m160/160\u001b[0m \u001b[32m━━━━━━━━━━━━━━━━━━━━\u001b[0m\u001b[37m\u001b[0m \u001b[1m144s\u001b[0m 905ms/step - accuracy: 1.0000 - loss: 6.1929e-04 - val_accuracy: 0.9664 - val_loss: 0.1270\n",
      "Epoch 23/30\n",
      "\u001b[1m160/160\u001b[0m \u001b[32m━━━━━━━━━━━━━━━━━━━━\u001b[0m\u001b[37m\u001b[0m \u001b[1m0s\u001b[0m 1s/step - accuracy: 1.0000 - loss: 5.7704e-04"
     ]
    }
   ],
   "source": [
    "# Train the model\n",
    "early_stopping = EarlyStopping(monitor='val_loss', patience=5, restore_best_weights=True)\n",
    "\n",
    "history = model.fit(\n",
    "    train_data,\n",
    "    train_lab_cat,\n",
    "    epochs=50, \n",
    "    validation_data=(test_data, test_lab_cat),\n",
    "    callbacks=[early_stopping],\n",
    "    class_weight=class_weights_dict\n",
    ")\n",
    "\n",
    "clear_output(wait=False)"
   ]
  },
  {
   "cell_type": "code",
   "execution_count": null,
   "metadata": {
    "application/vnd.databricks.v1+cell": {
     "cellMetadata": {
      "byteLimit": 2048000,
      "rowLimit": 10000
     },
     "inputWidgets": {},
     "nuid": "ad64c158-f3fd-4fe5-bd07-1fb431ba5832",
     "showTitle": false,
     "tableResultSettingsMap": {},
     "title": ""
    }
   },
   "outputs": [],
   "source": [
    "# Save model and history files\n",
    "model.save(results_dir_03 / 'model_resnet50.h5')\n",
    "print(f\"Model saved to {results_dir_03 / 'model_resnet50.h5'}\")\n",
    "\n",
    "file_name = results_dir_03 / 'history_resnet50.pkl'\n",
    "with open(file_name, 'wb') as f:\n",
    "    pickle.dump(history, f)\n",
    "\n",
    "print(f\"Data saved to {file_name}\")"
   ]
  },
  {
   "cell_type": "markdown",
   "metadata": {
    "application/vnd.databricks.v1+cell": {
     "cellMetadata": {
      "byteLimit": 2048000,
      "rowLimit": 10000
     },
     "inputWidgets": {},
     "nuid": "3202b367-b8e9-44f4-bfcb-d956542e157e",
     "showTitle": false,
     "tableResultSettingsMap": {},
     "title": ""
    }
   },
   "source": [
    "View results"
   ]
  },
  {
   "cell_type": "code",
   "execution_count": null,
   "metadata": {
    "application/vnd.databricks.v1+cell": {
     "cellMetadata": {
      "byteLimit": 2048000,
      "rowLimit": 10000
     },
     "inputWidgets": {},
     "nuid": "dfc50245-9bac-4a3a-b68e-836294ff94c2",
     "showTitle": false,
     "tableResultSettingsMap": {},
     "title": ""
    }
   },
   "outputs": [],
   "source": [
    "file_name = results_dir_03 / 'history_resnet50.pkl'\n",
    "with open(file_name, 'rb') as f:\n",
    "    history = pickle.load(f)\n",
    "clear_output(wait=False)\n",
    "\n",
    "visualize_training(history)"
   ]
  },
  {
   "cell_type": "markdown",
   "metadata": {
    "application/vnd.databricks.v1+cell": {
     "cellMetadata": {},
     "inputWidgets": {},
     "nuid": "a4d9334b-a311-4d5d-85a7-82edca0b47ad",
     "showTitle": false,
     "tableResultSettingsMap": {},
     "title": ""
    }
   },
   "source": [
    "We can see that model training stopped after only 8 epochs due to our early stopping criteria - Validation loss began increasing after the third epoch and never recovered. Ideally, by fine tuning this model by unfreezing layers/parameters, we can obtain a better fit."
   ]
  },
  {
   "cell_type": "markdown",
   "metadata": {
    "application/vnd.databricks.v1+cell": {
     "cellMetadata": {
      "byteLimit": 2048000,
      "rowLimit": 10000
     },
     "inputWidgets": {},
     "nuid": "d6bd0956-d734-487c-87c1-768b87c5357c",
     "showTitle": false,
     "tableResultSettingsMap": {},
     "title": ""
    }
   },
   "source": [
    "Fine tune the ResNet50"
   ]
  },
  {
   "cell_type": "code",
   "execution_count": null,
   "metadata": {
    "application/vnd.databricks.v1+cell": {
     "cellMetadata": {
      "byteLimit": 2048000,
      "rowLimit": 10000
     },
     "inputWidgets": {},
     "nuid": "9571e6b0-1257-49ce-af24-edc018069b7d",
     "showTitle": false,
     "tableResultSettingsMap": {},
     "title": ""
    }
   },
   "outputs": [],
   "source": [
    "# Load model\n",
    "res_model = load_model(results_dir_03 / 'model_resnet50.h5')\n",
    "\n",
    "# Unfreeze last whole convolutional block for fine tuning\n",
    "# (rather than all, since this is a small dataset)\n",
    "fine_tune_at = 143\n",
    "for layer in res_model.get_layer('resnet50').layers[fine_tune_at:]: # only unfreeze layers in ResNet50 backbone\n",
    "  layer.trainable = True\n",
    "\n",
    "# Print layers to verify in resnet50 backbone\n",
    "for i, layer in enumerate(res_model.get_layer('resnet50').layers[140:], start=140):\n",
    "    print(f\"Layer {i}: {layer.name}, Trainable: {layer.trainable}\")\n",
    "\n",
    "std_learning_rate = 1e-5 # use lower learning rate with more trainable layers\n",
    "res_model.compile(\n",
    "    optimizer = keras.optimizers.Adam(learning_rate = std_learning_rate),\n",
    "    loss = 'categorical_crossentropy',\n",
    "    metrics = ['accuracy']\n",
    ")\n",
    "\n",
    "res_model.summary()\n",
    "        "
   ]
  },
  {
   "cell_type": "markdown",
   "metadata": {
    "application/vnd.databricks.v1+cell": {
     "cellMetadata": {},
     "inputWidgets": {},
     "nuid": "1d75a766-6fcf-4f7b-ab02-662029fd77eb",
     "showTitle": false,
     "tableResultSettingsMap": {},
     "title": ""
    }
   },
   "source": [
    "Notice how the number of trainable parameters has increased from ~5M to ~15M by unfreezing the last convolutional block of the ResNet50 backbone. This should allow better fitting to the current data type."
   ]
  },
  {
   "cell_type": "code",
   "execution_count": null,
   "metadata": {
    "application/vnd.databricks.v1+cell": {
     "cellMetadata": {
      "byteLimit": 2048000,
      "rowLimit": 10000
     },
     "inputWidgets": {},
     "nuid": "4c01f103-2240-447e-a9b0-92022687696c",
     "showTitle": false,
     "tableResultSettingsMap": {},
     "title": ""
    }
   },
   "outputs": [],
   "source": [
    "# Train the model\n",
    "early_stopping = EarlyStopping(monitor='val_loss', patience=5, restore_best_weights=True)\n",
    "\n",
    "history_fine_tune = res_model.fit(\n",
    "    train_data,\n",
    "    train_lab_cat,\n",
    "    epochs=50, \n",
    "    validation_data=(test_data, test_lab_cat),\n",
    "    callbacks=[early_stopping],\n",
    "    class_weight=class_weights_dict\n",
    ")\n",
    "\n",
    "clear_output(wait=False)"
   ]
  },
  {
   "cell_type": "code",
   "execution_count": null,
   "metadata": {
    "application/vnd.databricks.v1+cell": {
     "cellMetadata": {
      "byteLimit": 2048000,
      "rowLimit": 10000
     },
     "inputWidgets": {},
     "nuid": "ae345850-7022-4a76-9b3e-d279b5093924",
     "showTitle": false,
     "tableResultSettingsMap": {},
     "title": ""
    }
   },
   "outputs": [],
   "source": [
    "# Save model and history files\n",
    "res_model.save(results_dir_03 / 'model_resnet50_fine_tune.h5')\n",
    "print(f\"Model saved to {results_dir_03 / 'model_resnet50_fine_tune.h5'}\")\n",
    "\n",
    "file_name = results_dir_03 / 'history_resnet50_fine_tune.pkl'\n",
    "with open(file_name, 'wb') as f:\n",
    "    pickle.dump(history_fine_tune, f)\n",
    "\n",
    "print(f\"Data saved to {file_name}\")"
   ]
  },
  {
   "cell_type": "code",
   "execution_count": null,
   "metadata": {
    "application/vnd.databricks.v1+cell": {
     "cellMetadata": {
      "byteLimit": 2048000,
      "rowLimit": 10000
     },
     "inputWidgets": {},
     "nuid": "fae65e3c-589c-42e3-a5a1-001d2ac089ac",
     "showTitle": false,
     "tableResultSettingsMap": {},
     "title": ""
    }
   },
   "outputs": [],
   "source": [
    "file_name = results_dir_03 / 'history_resnet50_fine_tune.pkl'\n",
    "with open(file_name, 'rb') as f:\n",
    "    history = pickle.load(f)\n",
    "clear_output(wait=False)\n",
    "\n",
    "visualize_training(history)"
   ]
  },
  {
   "cell_type": "markdown",
   "metadata": {
    "application/vnd.databricks.v1+cell": {
     "cellMetadata": {},
     "inputWidgets": {},
     "nuid": "d2f9bdc8-6879-4429-8b50-cb6434097664",
     "showTitle": false,
     "tableResultSettingsMap": {},
     "title": ""
    }
   },
   "source": [
    "Clearly, we can see that we unfreezing additional layers in the ResNet50 model, performance increases dramatically. Performance is not only more stable that the original ResNet50 model and the custom CNN in the previous notebook, but plateaus at a higher overall accuracy. Next, we will see if we can maintain that accuracy when simplifying the model through pruning."
   ]
  },
  {
   "cell_type": "code",
   "execution_count": null,
   "metadata": {
    "application/vnd.databricks.v1+cell": {
     "cellMetadata": {
      "byteLimit": 2048000,
      "rowLimit": 10000
     },
     "inputWidgets": {},
     "nuid": "0eb6edc2-4d5f-44e3-87c4-27c54cf1a125",
     "showTitle": false,
     "tableResultSettingsMap": {},
     "title": ""
    }
   },
   "outputs": [],
   "source": [
    "# Load model\n",
    "model = load_model(results_dir_03 / 'model_resnet50_fine_tune.h5')\n",
    "\n",
    "# Predict test data\n",
    "prob = model.predict(test_data)\n",
    "clear_output(wait=False)\n",
    "predict_classes = np.argmax(prob, axis=1)\n",
    "result = predict_classes - test_lab\n",
    "result_binary = np.argwhere(result == 0)\n",
    "correct = np.size(result_binary, 0)\n",
    "acc=correct/test_lab.shape[0] * 100\n",
    "\n",
    "print()\n",
    "print(f\"Overall classification accuracy is: {acc:.2f} %\")\n",
    "print()\n",
    "\n",
    "# Visualize summary of predictions\n",
    "multiclass_summary(prob, test_lab, class_lab)\n",
    "print()"
   ]
  },
  {
   "cell_type": "markdown",
   "metadata": {
    "application/vnd.databricks.v1+cell": {
     "cellMetadata": {},
     "inputWidgets": {},
     "nuid": "8680e92b-96a7-45ac-a597-1ac8b736958e",
     "showTitle": false,
     "tableResultSettingsMap": {},
     "title": ""
    }
   },
   "source": [
    "When compared to the tuned CNN from the previous notebook, the fine-tuned ResNet50 exhibits a similar overall accuracy. Nevertheless, the class-specific accuracy and F1 score is greatly improved for the minory class (moderate AD). Furthermore, misclassified samples from this class are most commonly labeled as very mild AD, which is adjacent on the AD spectrum and make more physiological sense. Overall, these improvements appear minor at first, but still paint the most complete picture."
   ]
  },
  {
   "cell_type": "markdown",
   "metadata": {
    "application/vnd.databricks.v1+cell": {
     "cellMetadata": {
      "byteLimit": 2048000,
      "rowLimit": 10000
     },
     "inputWidgets": {},
     "nuid": "aa1d0ebf-ff48-4d47-a5ab-b45e0f5c1ee4",
     "showTitle": false,
     "tableResultSettingsMap": {},
     "title": ""
    }
   },
   "source": [
    "While not a pressing need, model pruning can be an important aspect of deep learning architectures, especially when considering deployment in ambulatory situations where portable devices and fast inference speeds will be meaningly factors regarding clinical acceptance."
   ]
  },
  {
   "cell_type": "code",
   "execution_count": 0,
   "metadata": {
    "application/vnd.databricks.v1+cell": {
     "cellMetadata": {
      "byteLimit": 2048000,
      "rowLimit": 10000
     },
     "inputWidgets": {},
     "nuid": "5e477a55-54ae-4d11-92cd-e8ecf6f5864f",
     "showTitle": false,
     "tableResultSettingsMap": {},
     "title": ""
    }
   },
   "outputs": [],
   "source": [
    "# Load fine-tuned model\n",
    "pre_pruned_model = load_model(results_dir_03 / 'model_resnet50_fine_tune.h5')\n",
    "\n",
    "results = []\n",
    "pruning_factors = np.arange(0, 1, 0.05)\n",
    "for factor in pruning_factors:\n",
    "    \n",
    "    # Prune and re-compile model\n",
    "    pruned_model = global_prune_model(pre_pruned_model, pruning_factor=factor)\n",
    "    pruned_model.compile(optimizer=tf.keras.optimizers.Adam(learning_rate=1e-3), loss='categorical_crossentropy', metrics=['accuracy'])\n",
    "\n",
    "    test_loss, test_accuracy = pruned_model.evaluate(test_data, test_lab_cat, batch_size=32)\n",
    "\n",
    "    # Calculate the number of parameters in the pruned model\n",
    "    total_params = np.sum([np.count_nonzero(layer.get_weights()[0]) for layer in pruned_model.layers if len(layer.get_weights()) > 0])\n",
    "\n",
    "    # Save results\n",
    "    results.append({\n",
    "        'pruning_factor': factor,\n",
    "        'total_params': total_params,\n",
    "        'test_accuracy': test_accuracy,\n",
    "        'test_loss': test_loss\n",
    "    })\n",
    "    \n",
    "clear_output(wait=False)\n",
    "\n",
    "# Save history file\n",
    "file_name = results_dir_03 / 'history_resnet50_fine_tune_pruning.pkl'\n",
    "with open(file_name, 'wb') as f:\n",
    "    pickle.dump(results, f)\n",
    "\n",
    "print(f\"Data saved to {file_name}\")"
   ]
  },
  {
   "cell_type": "code",
   "execution_count": null,
   "metadata": {
    "application/vnd.databricks.v1+cell": {
     "cellMetadata": {
      "byteLimit": 2048000,
      "rowLimit": 10000
     },
     "inputWidgets": {},
     "nuid": "8dc70b24-eb49-4974-b817-a4793cb7843d",
     "showTitle": false,
     "tableResultSettingsMap": {},
     "title": ""
    }
   },
   "outputs": [],
   "source": [
    "# Load history file\n",
    "file_name = results_dir_03 / 'history_resnet50_fine_tune_pruning.pkl'\n",
    "with open(file_name, 'rb') as f:\n",
    "    results = pickle.load(f)\n",
    "clear_output(wait=False)\n",
    "\n",
    "pruning_factors = np.array([result['pruning_factor'] * 100 for result in results])\n",
    "total_params = np.array([result['total_params'] for result in results])\n",
    "test_accuracies = np.array([result['test_accuracy'] * 100 for result in results])\n",
    "test_losses = np.array([result['test_loss'] for result in results])\n",
    "\n",
    "fig, axes = plt.subplots(1, 2, figsize=(15, 5))\n",
    "\n",
    "# Plot Test Accuracy\n",
    "axes[0].plot(pruning_factors, test_accuracies, 'g-')\n",
    "axes[0].set_xlabel('Pruning Factor (%)')\n",
    "axes[0].set_ylabel('Test Accuracy (%)', color='g')\n",
    "axes[0].tick_params(axis='y', labelcolor='g')\n",
    "axes[0].set_title('Test Accuracy vs Pruning Factor')\n",
    "\n",
    "# Plot Test Loss\n",
    "axes[1].plot(pruning_factors, test_losses, 'r-')\n",
    "axes[1].set_xlabel('Pruning Factor (%)')\n",
    "axes[1].set_ylabel('Test Loss', color='r')\n",
    "axes[1].tick_params(axis='y', labelcolor='r')\n",
    "axes[1].set_title('Test Loss vs Pruning Factor')\n",
    "\n",
    "plt.tight_layout()\n",
    "plt.show()"
   ]
  },
  {
   "cell_type": "markdown",
   "metadata": {
    "application/vnd.databricks.v1+cell": {
     "cellMetadata": {},
     "inputWidgets": {},
     "nuid": "ca3514a7-e9df-4970-b118-72a0d9506917",
     "showTitle": false,
     "tableResultSettingsMap": {},
     "title": ""
    }
   },
   "source": [
    "While this is not a true pruning approach as the model is not re-structured after removing weights, this proof-of-concept pseudo-pruning gives us a sense of how many weights are likely to be important. With this, we can estimate that the model can be condensed ~15% without notably reducing performance. "
   ]
  }
 ],
 "metadata": {
  "application/vnd.databricks.v1+notebook": {
   "computePreferences": null,
   "dashboards": [],
   "environmentMetadata": null,
   "language": "python",
   "notebookMetadata": {
    "pythonIndentUnit": 4
   },
   "notebookName": "03_ResNet50_transfer_learning",
   "widgets": {}
  },
  "kernelspec": {
   "display_name": "venv_alz",
   "language": "python",
   "name": "python3"
  },
  "language_info": {
   "codemirror_mode": {
    "name": "ipython",
    "version": 3
   },
   "file_extension": ".py",
   "mimetype": "text/x-python",
   "name": "python",
   "nbconvert_exporter": "python",
   "pygments_lexer": "ipython3",
   "version": "3.10.11"
  }
 },
 "nbformat": 4,
 "nbformat_minor": 0
}
